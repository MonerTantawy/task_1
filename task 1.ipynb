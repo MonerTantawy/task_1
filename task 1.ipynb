{
 "cells": [
  {
   "cell_type": "code",
   "execution_count": 7,
   "id": "2aad749e",
   "metadata": {},
   "outputs": [
    {
     "data": {
      "text/plain": [
       "(1, 2, 'moner', 3)"
      ]
     },
     "execution_count": 7,
     "metadata": {},
     "output_type": "execute_result"
    }
   ],
   "source": [
    "# 1-add an item to a tuple\n",
    "tuple_m=(1,2,3)\n",
    "m=list(tuple_m)\n",
    "m.insert(2,\"moner\")\n",
    "mm=tuple(m)\n",
    "mm"
   ]
  },
  {
   "cell_type": "code",
   "execution_count": 9,
   "id": "11bf2a0f",
   "metadata": {},
   "outputs": [
    {
     "data": {
      "text/plain": [
       "15"
      ]
     },
     "execution_count": 9,
     "metadata": {},
     "output_type": "execute_result"
    }
   ],
   "source": [
    "# 2-sum all the items in a list\n",
    "my_list=[1,2,3,4,5]\n",
    "sum(my_list)"
   ]
  },
  {
   "cell_type": "code",
   "execution_count": 15,
   "id": "ea41f01d",
   "metadata": {},
   "outputs": [
    {
     "name": "stdout",
     "output_type": "stream",
     "text": [
      "multiply of item is   120\n"
     ]
    }
   ],
   "source": [
    "# 3-multiply all the items in a list\n",
    "my_list = [1,2,3,4,5]\n",
    "mul = 1\n",
    "for num in my_list:\n",
    "    mul *= num\n",
    "    \n",
    "print(\"multiply of item is  \" , mul)    "
   ]
  },
  {
   "cell_type": "code",
   "execution_count": 25,
   "id": "1f22d280",
   "metadata": {},
   "outputs": [
    {
     "name": "stdout",
     "output_type": "stream",
     "text": [
      "The smallest number is  1\n"
     ]
    }
   ],
   "source": [
    "# 4-get the smallest number from a list\n",
    "my_list = [1,2,3,4,5]\n",
    "minn = min(my_list)\n",
    "print(\"The smallest number is \" , minn)    \n",
    "    \n",
    "    "
   ]
  },
  {
   "cell_type": "code",
   "execution_count": 26,
   "id": "41c14290",
   "metadata": {},
   "outputs": [
    {
     "name": "stdout",
     "output_type": "stream",
     "text": [
      "The largest number is  5\n"
     ]
    }
   ],
   "source": [
    "# 5-get the largest number from a list\n",
    "my_list = [1,2,3,4,5]\n",
    "maxx=max(my_list)\n",
    "print(\"The largest number is \" , maxx)"
   ]
  },
  {
   "cell_type": "code",
   "execution_count": 29,
   "id": "d2a86a73",
   "metadata": {},
   "outputs": [
    {
     "data": {
      "text/plain": [
       "3"
      ]
     },
     "execution_count": 29,
     "metadata": {},
     "output_type": "execute_result"
    }
   ],
   "source": [
    "# 6-count the number of strings from a given list of strings\n",
    "my_list=[ \"moner\" , \"amit\" ,  \"mmmm \" ]\n",
    "len(my_list)"
   ]
  },
  {
   "cell_type": "code",
   "execution_count": 32,
   "id": "5537b28c",
   "metadata": {},
   "outputs": [
    {
     "data": {
      "text/plain": [
       "[1, 2, 3, 4, 5, 15, 10]"
      ]
     },
     "execution_count": 32,
     "metadata": {},
     "output_type": "execute_result"
    }
   ],
   "source": [
    "# 7-Write a Python program to clone or copy a list\n",
    "num=[1,2,3,4,5,15,10]\n",
    "num_copy=num[:]\n",
    "num_copy"
   ]
  },
  {
   "cell_type": "code",
   "execution_count": 56,
   "id": "d23f2870",
   "metadata": {},
   "outputs": [
    {
     "name": "stdout",
     "output_type": "stream",
     "text": [
      "{'moner', 'ml', 'ai'}\n"
     ]
    }
   ],
   "source": [
    "# 8- remove item(s) from a given set.\n",
    "se={'amit', 'ml' , 'ai','moner'}\n",
    "se.remove('amit')\n",
    "print(se)\n"
   ]
  },
  {
   "cell_type": "code",
   "execution_count": 61,
   "id": "083eb664",
   "metadata": {},
   "outputs": [
    {
     "name": "stdout",
     "output_type": "stream",
     "text": [
      "set2 is subset of set1\n"
     ]
    }
   ],
   "source": [
    "# 9-check if a set is a subset of another set\n",
    "set1 = {1,2,3,4,5}\n",
    "set2 = {1,3}\n",
    "\n",
    "if set2.issubset(set1):\n",
    "    print(\"set2 is subset of set1\")\n",
    "else:\n",
    "    print(\"set2 is not subset of set1\")\n",
    "    "
   ]
  },
  {
   "cell_type": "code",
   "execution_count": 70,
   "id": "c6f91ffe",
   "metadata": {},
   "outputs": [
    {
     "name": "stdout",
     "output_type": "stream",
     "text": [
      "THe ser after removing all element is   set()\n"
     ]
    }
   ],
   "source": [
    "# 10-remove all elements from a given set\n",
    "set1 = {'moner' , 'amit' , 1}\n",
    "set1.clear()\n",
    "print(\"THe set after removing all element is  \" , set1)"
   ]
  },
  {
   "cell_type": "code",
   "execution_count": 74,
   "id": "01deb68b",
   "metadata": {},
   "outputs": [
    {
     "name": "stdout",
     "output_type": "stream",
     "text": [
      "the maximum value of set is {10}\n",
      "the minimum value of set is {2}\n"
     ]
    }
   ],
   "source": [
    "# 11-find the maximum and minimum values in a set.\n",
    "set2={10,2,5,6,4,3}\n",
    "list2= list(set2)\n",
    "maxvalue = max(list2)\n",
    "minvalue = min(list2)\n",
    "max_set2 = {maxvalue}\n",
    "min_set2 = {minvalue}\n",
    "print(\"the maximum value of set is\",max_set2 )\n",
    "print(\"the minimum value of set is\" ,min_set2)      \n",
    "      "
   ]
  },
  {
   "cell_type": "code",
   "execution_count": 76,
   "id": "26f30493",
   "metadata": {},
   "outputs": [
    {
     "data": {
      "text/plain": [
       "1"
      ]
     },
     "execution_count": 76,
     "metadata": {},
     "output_type": "execute_result"
    }
   ],
   "source": [
    "# 12-find the index of an item in a tuple.\n",
    "tuple1=(\"moner\",\"amit\",\"data\",\"ahmed\",\"ml\")\n",
    "tuple1.index(\"amit\")"
   ]
  },
  {
   "cell_type": "code",
   "execution_count": 81,
   "id": "94e364d3",
   "metadata": {},
   "outputs": [
    {
     "name": "stdout",
     "output_type": "stream",
     "text": [
      "{'moner': 0, 'amit': 1, 'data': 2, 'ahmed': 3, 'ml': 100}\n"
     ]
    }
   ],
   "source": [
    "# 13-to convert a tuple to a dictionary\n",
    "tuple1=((\"moner\" , 0) , (\"amit\" , 1) , (\"data\" , 2) , (\"ahmed\" , 3) , (\"ml\" , 100) )\n",
    "dict1 = dict(tuple1)\n",
    "print(dict1)\n"
   ]
  },
  {
   "cell_type": "code",
   "execution_count": 83,
   "id": "2cb4b611",
   "metadata": {},
   "outputs": [
    {
     "name": "stdout",
     "output_type": "stream",
     "text": [
      "words is ('amit', 'ml', 'python')\n",
      "numebrs is  (1, 2, 10)\n"
     ]
    }
   ],
   "source": [
    "# 14-unzip a list of tuples into individual lists\n",
    "list_of_tuple=[(\"amit\" , 1) , (\"ml\", 2) , (\"python\",10)]\n",
    "words , numbers = zip(*list_of_tuple)\n",
    "print(\"words is\" , words)\n",
    "print(\"numebrs is \" , numbers)"
   ]
  },
  {
   "cell_type": "code",
   "execution_count": 86,
   "id": "34c3f451",
   "metadata": {},
   "outputs": [
    {
     "name": "stdout",
     "output_type": "stream",
     "text": [
      "(10, 15, 4, 5, 3, 2, 1)\n"
     ]
    }
   ],
   "source": [
    "# 15-to reverse a tuple.\n",
    "tuple0=(1,2,3,5,4,15,10)\n",
    "list0=list(tuple0)\n",
    "list0.reverse()\n",
    "m=tuple(list0)\n",
    "print(m)"
   ]
  },
  {
   "cell_type": "code",
   "execution_count": 88,
   "id": "3bd5afd9",
   "metadata": {},
   "outputs": [
    {
     "data": {
      "text/plain": [
       "{'amit': 'learing', 'ml': 'machine learing', 'python': 'program lang'}"
      ]
     },
     "execution_count": 88,
     "metadata": {},
     "output_type": "execute_result"
    }
   ],
   "source": [
    "# 16- convert a list of tuples into a dictionary\n",
    "list_of_tuple=[(\"amit\" , \"learing\") , (\"ml\" , \"machine learing\") , (\"python\" , \"program lang\") ]\n",
    "dict(list_of_tuple)\n"
   ]
  },
  {
   "cell_type": "code",
   "execution_count": 90,
   "id": "56ecc8a7",
   "metadata": {},
   "outputs": [
    {
     "name": "stdout",
     "output_type": "stream",
     "text": [
      "[(1, 'mmmmm'), (2, 'student'), (5, 'amit')]\n"
     ]
    }
   ],
   "source": [
    "# 18- sort a tuple by its float element.\n",
    "tuple10=((5,\"amit\") , (2,\"student\") , (1,\"mmmmm\"))\n",
    "sort=sorted(tuple10,key=lambda x:x[0])\n",
    "print(sort)"
   ]
  }
 ],
 "metadata": {
  "kernelspec": {
   "display_name": "Python 3 (ipykernel)",
   "language": "python",
   "name": "python3"
  },
  "language_info": {
   "codemirror_mode": {
    "name": "ipython",
    "version": 3
   },
   "file_extension": ".py",
   "mimetype": "text/x-python",
   "name": "python",
   "nbconvert_exporter": "python",
   "pygments_lexer": "ipython3",
   "version": "3.11.4"
  }
 },
 "nbformat": 4,
 "nbformat_minor": 5
}
